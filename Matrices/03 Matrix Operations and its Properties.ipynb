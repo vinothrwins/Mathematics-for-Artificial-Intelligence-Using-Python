{
 "cells": [
  {
   "cell_type": "markdown",
   "metadata": {},
   "source": [
    "## Matrix Operations"
   ]
  },
  {
   "cell_type": "markdown",
   "metadata": {},
   "source": [
    "## Matrix Addition"
   ]
  },
  {
   "cell_type": "markdown",
   "metadata": {},
   "source": [
    "Rule:\n",
    "    \n",
    "1. Both the matrix must be in same dimension (i.e) Same number of rows and columns"
   ]
  },
  {
   "cell_type": "code",
   "execution_count": 1,
   "metadata": {},
   "outputs": [],
   "source": [
    "import numpy as np\n",
    "m1 = np.array([[10,7,11],[8,6,20],[9,5,12]])\n",
    "m2 = np.array([[6,4,1],[7,10,3],[2,15,7]])"
   ]
  },
  {
   "cell_type": "code",
   "execution_count": 2,
   "metadata": {
    "scrolled": true
   },
   "outputs": [
    {
     "name": "stdout",
     "output_type": "stream",
     "text": [
      "First Matrix is\n",
      " [[10  7 11]\n",
      " [ 8  6 20]\n",
      " [ 9  5 12]]\n",
      "Second Matrix is\n",
      " [[ 6  4  1]\n",
      " [ 7 10  3]\n",
      " [ 2 15  7]]\n"
     ]
    }
   ],
   "source": [
    "print(\"First Matrix is\\n\", m1)\n",
    "print(\"Second Matrix is\\n\", m2)"
   ]
  },
  {
   "cell_type": "code",
   "execution_count": 3,
   "metadata": {
    "scrolled": true
   },
   "outputs": [
    {
     "name": "stdout",
     "output_type": "stream",
     "text": [
      "Addition of two matrix =\n",
      " [[16 11 12]\n",
      " [15 16 23]\n",
      " [11 20 19]]\n"
     ]
    }
   ],
   "source": [
    "print(\"Addition of two matrix =\\n\",m1+m2)"
   ]
  },
  {
   "cell_type": "markdown",
   "metadata": {},
   "source": [
    "## Matrix Subtraction"
   ]
  },
  {
   "cell_type": "code",
   "execution_count": 4,
   "metadata": {},
   "outputs": [
    {
     "name": "stdout",
     "output_type": "stream",
     "text": [
      "First Matrix is\n",
      " [[10  7 11]\n",
      " [ 8  6 20]\n",
      " [ 9  5 12]]\n",
      "Second Matrix is\n",
      " [[ 6  4  1]\n",
      " [ 7 10  3]\n",
      " [ 2 15  7]]\n"
     ]
    }
   ],
   "source": [
    "print(\"First Matrix is\\n\", m1)\n",
    "print(\"Second Matrix is\\n\", m2)"
   ]
  },
  {
   "cell_type": "code",
   "execution_count": 5,
   "metadata": {},
   "outputs": [
    {
     "name": "stdout",
     "output_type": "stream",
     "text": [
      "Subtraction of two matrix =\n",
      " [[  4   3  10]\n",
      " [  1  -4  17]\n",
      " [  7 -10   5]]\n"
     ]
    }
   ],
   "source": [
    "print(\"Subtraction of two matrix =\\n\", m1-m2)"
   ]
  },
  {
   "cell_type": "markdown",
   "metadata": {},
   "source": [
    "## Assignment"
   ]
  },
  {
   "cell_type": "markdown",
   "metadata": {},
   "source": [
    "Find the Matrix Addition of below mentioned matrix"
   ]
  },
  {
   "cell_type": "code",
   "execution_count": 6,
   "metadata": {},
   "outputs": [],
   "source": [
    "m1 = np.array([[5,7],[9,8]])\n",
    "m2 = np.array([[6,3,7],[7,4,6],[5,1,1]])"
   ]
  },
  {
   "cell_type": "code",
   "execution_count": 7,
   "metadata": {},
   "outputs": [
    {
     "name": "stdout",
     "output_type": "stream",
     "text": [
      "First Matrix is\n",
      " [[5 7]\n",
      " [9 8]]\n",
      "Second Matrix is\n",
      " [[6 3 7]\n",
      " [7 4 6]\n",
      " [5 1 1]]\n"
     ]
    }
   ],
   "source": [
    "print(\"First Matrix is\\n\", m1)\n",
    "print(\"Second Matrix is\\n\", m2)"
   ]
  },
  {
   "cell_type": "code",
   "execution_count": 8,
   "metadata": {
    "scrolled": true
   },
   "outputs": [
    {
     "ename": "ValueError",
     "evalue": "operands could not be broadcast together with shapes (2,2) (3,3) ",
     "output_type": "error",
     "traceback": [
      "\u001b[1;31m---------------------------------------------------------------------------\u001b[0m",
      "\u001b[1;31mValueError\u001b[0m                                Traceback (most recent call last)",
      "\u001b[1;32m<ipython-input-8-71c888ad3e58>\u001b[0m in \u001b[0;36m<module>\u001b[1;34m\u001b[0m\n\u001b[1;32m----> 1\u001b[1;33m \u001b[0mprint\u001b[0m\u001b[1;33m(\u001b[0m\u001b[1;34m\"Addition of two matrix =\\n\"\u001b[0m\u001b[1;33m,\u001b[0m\u001b[0mm1\u001b[0m\u001b[1;33m+\u001b[0m\u001b[0mm2\u001b[0m\u001b[1;33m)\u001b[0m\u001b[1;33m\u001b[0m\u001b[1;33m\u001b[0m\u001b[0m\n\u001b[0m",
      "\u001b[1;31mValueError\u001b[0m: operands could not be broadcast together with shapes (2,2) (3,3) "
     ]
    }
   ],
   "source": [
    "print(\"Addition of two matrix =\\n\",m1+m2)"
   ]
  },
  {
   "cell_type": "markdown",
   "metadata": {},
   "source": [
    "Note : In case if both the matrix of different shape(dimension) , then matrix addition or subtraction cant be performed"
   ]
  },
  {
   "cell_type": "markdown",
   "metadata": {},
   "source": [
    "# Properties of Matrix Addition"
   ]
  },
  {
   "cell_type": "markdown",
   "metadata": {},
   "source": [
    "## 1. Commutative Law"
   ]
  },
  {
   "cell_type": "markdown",
   "metadata": {},
   "source": [
    " A + B = B + A"
   ]
  },
  {
   "cell_type": "code",
   "execution_count": 9,
   "metadata": {},
   "outputs": [],
   "source": [
    "A = np.array([[10,7,11],[8,6,20],[9,5,12]])\n",
    "B = np.array([[6,4,1],[7,10,3],[2,15,7]])"
   ]
  },
  {
   "cell_type": "code",
   "execution_count": 10,
   "metadata": {},
   "outputs": [
    {
     "name": "stdout",
     "output_type": "stream",
     "text": [
      "Matrix A is\n",
      " [[10  7 11]\n",
      " [ 8  6 20]\n",
      " [ 9  5 12]]\n",
      "Matrix B is\n",
      " [[ 6  4  1]\n",
      " [ 7 10  3]\n",
      " [ 2 15  7]]\n"
     ]
    }
   ],
   "source": [
    "print(\"Matrix A is\\n\", A)\n",
    "print(\"Matrix B is\\n\", B)"
   ]
  },
  {
   "cell_type": "code",
   "execution_count": 11,
   "metadata": {},
   "outputs": [
    {
     "name": "stdout",
     "output_type": "stream",
     "text": [
      "Addition of A + B matrix =\n",
      " [[16 11 12]\n",
      " [15 16 23]\n",
      " [11 20 19]]\n"
     ]
    }
   ],
   "source": [
    "print(\"Addition of A + B matrix =\\n\", A+B)"
   ]
  },
  {
   "cell_type": "code",
   "execution_count": 12,
   "metadata": {},
   "outputs": [
    {
     "name": "stdout",
     "output_type": "stream",
     "text": [
      "Addition of B + A matrix =\n",
      " [[16 11 12]\n",
      " [15 16 23]\n",
      " [11 20 19]]\n"
     ]
    }
   ],
   "source": [
    "print(\"Addition of B + A matrix =\\n\", B+A)"
   ]
  },
  {
   "cell_type": "markdown",
   "metadata": {},
   "source": [
    "## 2. Associative Law"
   ]
  },
  {
   "cell_type": "markdown",
   "metadata": {},
   "source": [
    "A + ( B + C ) = (A + B) + C"
   ]
  },
  {
   "cell_type": "code",
   "execution_count": 13,
   "metadata": {},
   "outputs": [],
   "source": [
    "A = np.array([[1,7],[8,5]])\n",
    "B = np.array([[6,7],[5,10]])\n",
    "C = np.array([[1,0],[6,11]])"
   ]
  },
  {
   "cell_type": "code",
   "execution_count": 14,
   "metadata": {},
   "outputs": [
    {
     "name": "stdout",
     "output_type": "stream",
     "text": [
      "Matrix A is\n",
      " [[1 7]\n",
      " [8 5]]\n",
      "Matrix B is\n",
      " [[ 6  7]\n",
      " [ 5 10]]\n",
      "Matrix C is\n",
      " [[ 1  0]\n",
      " [ 6 11]]\n"
     ]
    }
   ],
   "source": [
    "print(\"Matrix A is\\n\", A)\n",
    "print(\"Matrix B is\\n\", B)\n",
    "print(\"Matrix C is\\n\", C)"
   ]
  },
  {
   "cell_type": "code",
   "execution_count": 15,
   "metadata": {
    "scrolled": true
   },
   "outputs": [
    {
     "name": "stdout",
     "output_type": "stream",
     "text": [
      "Addition of A + (B + C) matrix =\n",
      " [[ 8 14]\n",
      " [19 26]]\n"
     ]
    }
   ],
   "source": [
    "print(\"Addition of A + (B + C) matrix =\\n\", A+(B+C))"
   ]
  },
  {
   "cell_type": "code",
   "execution_count": 16,
   "metadata": {},
   "outputs": [
    {
     "name": "stdout",
     "output_type": "stream",
     "text": [
      "Addition of (A + B) + C matrix =\n",
      " [[ 8 14]\n",
      " [19 26]]\n"
     ]
    }
   ],
   "source": [
    "print(\"Addition of (A + B) + C matrix =\\n\", (A+B)+C)"
   ]
  },
  {
   "cell_type": "markdown",
   "metadata": {},
   "source": [
    "## 3. Additive Identity"
   ]
  },
  {
   "cell_type": "markdown",
   "metadata": {},
   "source": [
    "A + O = A"
   ]
  },
  {
   "cell_type": "code",
   "execution_count": 17,
   "metadata": {},
   "outputs": [],
   "source": [
    "A = np.array([[6,7],[9,8]])\n",
    "O = np.zeros((2,2),int)"
   ]
  },
  {
   "cell_type": "code",
   "execution_count": 18,
   "metadata": {},
   "outputs": [
    {
     "name": "stdout",
     "output_type": "stream",
     "text": [
      "Matrix A is\n",
      " [[6 7]\n",
      " [9 8]]\n",
      "Zero Matrix O is\n",
      " [[0 0]\n",
      " [0 0]]\n"
     ]
    }
   ],
   "source": [
    "print(\"Matrix A is\\n\", A)\n",
    "print(\"Zero Matrix O is\\n\", O)"
   ]
  },
  {
   "cell_type": "code",
   "execution_count": 19,
   "metadata": {},
   "outputs": [
    {
     "name": "stdout",
     "output_type": "stream",
     "text": [
      "Addition of A + O matrix =\n",
      " [[6 7]\n",
      " [9 8]]\n"
     ]
    }
   ],
   "source": [
    "print(\"Addition of A + O matrix =\\n\", A+O)"
   ]
  },
  {
   "cell_type": "markdown",
   "metadata": {},
   "source": [
    "## 4. Additivie Inverse"
   ]
  },
  {
   "cell_type": "markdown",
   "metadata": {},
   "source": [
    "A - A = 0"
   ]
  },
  {
   "cell_type": "code",
   "execution_count": 21,
   "metadata": {},
   "outputs": [],
   "source": [
    "A = np.array([[6,7],[9,8]])"
   ]
  },
  {
   "cell_type": "code",
   "execution_count": 22,
   "metadata": {},
   "outputs": [
    {
     "name": "stdout",
     "output_type": "stream",
     "text": [
      "Matrix A is\n",
      " [[6 7]\n",
      " [9 8]]\n"
     ]
    }
   ],
   "source": [
    "print(\"Matrix A is\\n\", A)"
   ]
  },
  {
   "cell_type": "code",
   "execution_count": 23,
   "metadata": {},
   "outputs": [
    {
     "name": "stdout",
     "output_type": "stream",
     "text": [
      "Subtraction of A-A matrix =\n",
      " [[0 0]\n",
      " [0 0]]\n"
     ]
    }
   ],
   "source": [
    "print(\"Subtraction of A-A matrix =\\n\", A-A)"
   ]
  },
  {
   "cell_type": "markdown",
   "metadata": {},
   "source": [
    "## Equality of a Matrix"
   ]
  },
  {
   "cell_type": "markdown",
   "metadata": {},
   "source": [
    "Rule :\n",
    "    \n",
    "1. Both the matrix must be of same order\n",
    "\n",
    "2. Correspoding elements in both the matrix must be same"
   ]
  },
  {
   "cell_type": "code",
   "execution_count": 24,
   "metadata": {},
   "outputs": [],
   "source": [
    "A = np.array([[1,8],[9,4]])\n",
    "B = np.array([[4,6],[9,7]])\n",
    "C = np.array([[1,8],[9,4]])"
   ]
  },
  {
   "cell_type": "code",
   "execution_count": 25,
   "metadata": {},
   "outputs": [
    {
     "name": "stdout",
     "output_type": "stream",
     "text": [
      "Matrix A is\n",
      " [[1 8]\n",
      " [9 4]]\n",
      "Matrix B is\n",
      " [[4 6]\n",
      " [9 7]]\n"
     ]
    }
   ],
   "source": [
    "print(\"Matrix A is\\n\", A)\n",
    "print(\"Matrix B is\\n\", B)"
   ]
  },
  {
   "cell_type": "code",
   "execution_count": 26,
   "metadata": {
    "scrolled": true
   },
   "outputs": [
    {
     "name": "stdout",
     "output_type": "stream",
     "text": [
      "[[False False]\n",
      " [ True False]]\n"
     ]
    }
   ],
   "source": [
    "# Both A and B are not same\n",
    "print(A==B)"
   ]
  },
  {
   "cell_type": "code",
   "execution_count": 27,
   "metadata": {},
   "outputs": [
    {
     "name": "stdout",
     "output_type": "stream",
     "text": [
      "Matrix A is\n",
      " [[1 8]\n",
      " [9 4]]\n",
      "Matrix C is\n",
      " [[1 8]\n",
      " [9 4]]\n"
     ]
    }
   ],
   "source": [
    "print(\"Matrix A is\\n\", A)\n",
    "print(\"Matrix C is\\n\", C)"
   ]
  },
  {
   "cell_type": "code",
   "execution_count": 28,
   "metadata": {},
   "outputs": [
    {
     "name": "stdout",
     "output_type": "stream",
     "text": [
      "[[ True  True]\n",
      " [ True  True]]\n"
     ]
    }
   ],
   "source": [
    "# Both A and C are same\n",
    "print(A==C)"
   ]
  },
  {
   "cell_type": "markdown",
   "metadata": {},
   "source": [
    "# Matrix Multiplications"
   ]
  },
  {
   "cell_type": "markdown",
   "metadata": {},
   "source": [
    "It can be done using two ways\n",
    "\n",
    "1. By a Number ( Scalar Multiplication)\n",
    "\n",
    "2. By an Another Matrix( Matrix Multiplication)"
   ]
  },
  {
   "cell_type": "markdown",
   "metadata": {},
   "source": [
    "## 1. Scalar Multiplication"
   ]
  },
  {
   "cell_type": "markdown",
   "metadata": {},
   "source": [
    "Multiplying every elements in the matrix by the same number(Scalar) to form a new matrix"
   ]
  },
  {
   "cell_type": "code",
   "execution_count": 29,
   "metadata": {},
   "outputs": [],
   "source": [
    "A = 10\n",
    "B = np.array([[10,20],[30,40]])"
   ]
  },
  {
   "cell_type": "code",
   "execution_count": 30,
   "metadata": {
    "scrolled": true
   },
   "outputs": [
    {
     "name": "stdout",
     "output_type": "stream",
     "text": [
      "Scalar A is\n",
      " 10\n",
      "Matrix B is\n",
      " [[10 20]\n",
      " [30 40]]\n"
     ]
    }
   ],
   "source": [
    "print(\"Scalar A is\\n\", A)\n",
    "print(\"Matrix B is\\n\", B)"
   ]
  },
  {
   "cell_type": "code",
   "execution_count": 31,
   "metadata": {},
   "outputs": [
    {
     "name": "stdout",
     "output_type": "stream",
     "text": [
      "Scalar Multiplication is \n",
      " [[100 200]\n",
      " [300 400]]\n"
     ]
    }
   ],
   "source": [
    "print(\"Scalar Multiplication is \\n\", A*B)"
   ]
  },
  {
   "cell_type": "markdown",
   "metadata": {},
   "source": [
    "## 2. Product of Matrix (or) Matrix Multiplication"
   ]
  },
  {
   "cell_type": "markdown",
   "metadata": {},
   "source": [
    "Rule:\n",
    "\n",
    "Number of columns in First Matrix = Number of rows in the Second Matrix"
   ]
  },
  {
   "cell_type": "code",
   "execution_count": 32,
   "metadata": {},
   "outputs": [],
   "source": [
    "A = np.array([[10,20],[30,40]])\n",
    "B = np.array([[7,1,3],[4,2,9]])"
   ]
  },
  {
   "cell_type": "code",
   "execution_count": 33,
   "metadata": {},
   "outputs": [
    {
     "name": "stdout",
     "output_type": "stream",
     "text": [
      "Matrix A is\n",
      " [[10 20]\n",
      " [30 40]]\n",
      "Matrix B is\n",
      " [[7 1 3]\n",
      " [4 2 9]]\n"
     ]
    }
   ],
   "source": [
    "print(\"Matrix A is\\n\", A)\n",
    "print(\"Matrix B is\\n\", B)"
   ]
  },
  {
   "cell_type": "code",
   "execution_count": 34,
   "metadata": {
    "scrolled": false
   },
   "outputs": [
    {
     "name": "stdout",
     "output_type": "stream",
     "text": [
      "Matrix Multiplication is \n",
      " [[150  50 210]\n",
      " [370 110 450]]\n"
     ]
    }
   ],
   "source": [
    "print(\"Matrix Multiplication is \\n\", A.dot(B))"
   ]
  },
  {
   "cell_type": "markdown",
   "metadata": {},
   "source": [
    "Note: For matrix multiplication , dont use A*B , instead use A.dot(B)"
   ]
  },
  {
   "cell_type": "markdown",
   "metadata": {},
   "source": [
    "## Assignment "
   ]
  },
  {
   "cell_type": "markdown",
   "metadata": {},
   "source": [
    "Perform Matrix Multiplication for the below matrix"
   ]
  },
  {
   "cell_type": "code",
   "execution_count": 35,
   "metadata": {},
   "outputs": [],
   "source": [
    "A = np.array([[1,9],[3,4]])\n",
    "B = np.array([[6,9],[5,2],[1,3]])"
   ]
  },
  {
   "cell_type": "code",
   "execution_count": 36,
   "metadata": {},
   "outputs": [
    {
     "name": "stdout",
     "output_type": "stream",
     "text": [
      "Matrix A is\n",
      " [[1 9]\n",
      " [3 4]]\n",
      "Matrix B is\n",
      " [[6 9]\n",
      " [5 2]\n",
      " [1 3]]\n"
     ]
    }
   ],
   "source": [
    "print(\"Matrix A is\\n\", A)\n",
    "print(\"Matrix B is\\n\", B)"
   ]
  },
  {
   "cell_type": "code",
   "execution_count": 37,
   "metadata": {
    "scrolled": true
   },
   "outputs": [
    {
     "ename": "ValueError",
     "evalue": "shapes (2,2) and (3,2) not aligned: 2 (dim 1) != 3 (dim 0)",
     "output_type": "error",
     "traceback": [
      "\u001b[1;31m---------------------------------------------------------------------------\u001b[0m",
      "\u001b[1;31mValueError\u001b[0m                                Traceback (most recent call last)",
      "\u001b[1;32m<ipython-input-37-955a22f790d0>\u001b[0m in \u001b[0;36m<module>\u001b[1;34m\u001b[0m\n\u001b[1;32m----> 1\u001b[1;33m \u001b[0mprint\u001b[0m\u001b[1;33m(\u001b[0m\u001b[1;34m\"Matrix Multiplication is \\n\"\u001b[0m\u001b[1;33m,\u001b[0m \u001b[0mA\u001b[0m\u001b[1;33m.\u001b[0m\u001b[0mdot\u001b[0m\u001b[1;33m(\u001b[0m\u001b[0mB\u001b[0m\u001b[1;33m)\u001b[0m\u001b[1;33m)\u001b[0m\u001b[1;33m\u001b[0m\u001b[1;33m\u001b[0m\u001b[0m\n\u001b[0m",
      "\u001b[1;31mValueError\u001b[0m: shapes (2,2) and (3,2) not aligned: 2 (dim 1) != 3 (dim 0)"
     ]
    }
   ],
   "source": [
    "print(\"Matrix Multiplication is \\n\", A.dot(B))"
   ]
  },
  {
   "cell_type": "markdown",
   "metadata": {},
   "source": [
    "Conclusion : The number of columns in Matrix A is not equal to number of rows in Matrix B. Hence matrix multiplication can not be performed"
   ]
  },
  {
   "cell_type": "markdown",
   "metadata": {},
   "source": [
    "# Properties of Matrix Multiplications"
   ]
  },
  {
   "cell_type": "markdown",
   "metadata": {},
   "source": [
    "## 1. Commutative Property of Multiplication"
   ]
  },
  {
   "cell_type": "markdown",
   "metadata": {},
   "source": [
    "(A * B) !=(Not Equal) (B * A)"
   ]
  },
  {
   "cell_type": "code",
   "execution_count": 38,
   "metadata": {},
   "outputs": [],
   "source": [
    "A = np.array([[10,20,30],[30,40,50]])\n",
    "B = np.array([[7,1],[4,2],[5,1]])"
   ]
  },
  {
   "cell_type": "code",
   "execution_count": 39,
   "metadata": {},
   "outputs": [
    {
     "name": "stdout",
     "output_type": "stream",
     "text": [
      "Matrix A is\n",
      " [[10 20 30]\n",
      " [30 40 50]]\n",
      "Matrix B is\n",
      " [[7 1]\n",
      " [4 2]\n",
      " [5 1]]\n"
     ]
    }
   ],
   "source": [
    "print(\"Matrix A is\\n\", A)\n",
    "print(\"Matrix B is\\n\", B)"
   ]
  },
  {
   "cell_type": "code",
   "execution_count": 40,
   "metadata": {
    "scrolled": true
   },
   "outputs": [
    {
     "name": "stdout",
     "output_type": "stream",
     "text": [
      "Matrix Multiplication of A*B :\n",
      " [[300  80]\n",
      " [620 160]]\n"
     ]
    }
   ],
   "source": [
    "print(\"Matrix Multiplication of A*B :\\n\", A.dot(B))"
   ]
  },
  {
   "cell_type": "code",
   "execution_count": 41,
   "metadata": {},
   "outputs": [
    {
     "name": "stdout",
     "output_type": "stream",
     "text": [
      "Matrix Multiplication of B*A :\n",
      " [[100 180 260]\n",
      " [100 160 220]\n",
      " [ 80 140 200]]\n"
     ]
    }
   ],
   "source": [
    "print(\"Matrix Multiplication of B*A :\\n\", B.dot(A))"
   ]
  },
  {
   "cell_type": "markdown",
   "metadata": {},
   "source": [
    "## 2. Multiplying with Identity Matrix"
   ]
  },
  {
   "cell_type": "markdown",
   "metadata": {},
   "source": [
    "(A * I)  =  (I * A)"
   ]
  },
  {
   "cell_type": "code",
   "execution_count": 42,
   "metadata": {},
   "outputs": [],
   "source": [
    "A = np.array([[1,3],[4,9]])\n",
    "I = np.identity(2,int)"
   ]
  },
  {
   "cell_type": "code",
   "execution_count": 43,
   "metadata": {},
   "outputs": [
    {
     "name": "stdout",
     "output_type": "stream",
     "text": [
      "Matrix A is\n",
      " [[1 3]\n",
      " [4 9]]\n",
      "Identity Matrix I is\n",
      " [[1 0]\n",
      " [0 1]]\n"
     ]
    }
   ],
   "source": [
    "print(\"Matrix A is\\n\", A)\n",
    "print(\"Identity Matrix I is\\n\", I)"
   ]
  },
  {
   "cell_type": "code",
   "execution_count": 44,
   "metadata": {},
   "outputs": [
    {
     "name": "stdout",
     "output_type": "stream",
     "text": [
      "Matrix Multiplication of A*I :\n",
      " [[1 3]\n",
      " [4 9]]\n"
     ]
    }
   ],
   "source": [
    "print(\"Matrix Multiplication of A*I :\\n\", A.dot(I))"
   ]
  },
  {
   "cell_type": "code",
   "execution_count": 45,
   "metadata": {},
   "outputs": [
    {
     "name": "stdout",
     "output_type": "stream",
     "text": [
      "Matrix Multiplication of I*A :\n",
      " [[1 3]\n",
      " [4 9]]\n"
     ]
    }
   ],
   "source": [
    "print(\"Matrix Multiplication of I*A :\\n\", I.dot(A))"
   ]
  }
 ],
 "metadata": {
  "kernelspec": {
   "display_name": "Python 3",
   "language": "python",
   "name": "python3"
  },
  "language_info": {
   "codemirror_mode": {
    "name": "ipython",
    "version": 3
   },
   "file_extension": ".py",
   "mimetype": "text/x-python",
   "name": "python",
   "nbconvert_exporter": "python",
   "pygments_lexer": "ipython3",
   "version": "3.7.4"
  }
 },
 "nbformat": 4,
 "nbformat_minor": 2
}
